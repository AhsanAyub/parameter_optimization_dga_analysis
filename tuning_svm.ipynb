{
  "nbformat": 4,
  "nbformat_minor": 0,
  "metadata": {
    "colab": {
      "name": "tuning_svm.ipynb",
      "provenance": []
    },
    "kernelspec": {
      "name": "python3",
      "display_name": "Python 3"
    },
    "accelerator": "GPU"
  },
  "cells": [
    {
      "cell_type": "code",
      "metadata": {
        "id": "pDbkaVfEXlTF",
        "colab_type": "code",
        "colab": {
          "base_uri": "https://localhost:8080/",
          "height": 1000
        },
        "outputId": "62a610dc-a0b6-4e2f-bc13-3a4361a0bbc1"
      },
      "source": [
        "!pip install -r requirements.txt"
      ],
      "execution_count": null,
      "outputs": [
        {
          "output_type": "stream",
          "text": [
            "Requirement already satisfied: absl-py==0.9.0 in /usr/local/lib/python3.6/dist-packages (from -r requirements.txt (line 1)) (0.9.0)\n",
            "Requirement already satisfied: astunparse==1.6.3 in /usr/local/lib/python3.6/dist-packages (from -r requirements.txt (line 2)) (1.6.3)\n",
            "Requirement already satisfied: backcall==0.2.0 in /usr/local/lib/python3.6/dist-packages (from -r requirements.txt (line 3)) (0.2.0)\n",
            "Requirement already satisfied: cachetools==4.1.1 in /usr/local/lib/python3.6/dist-packages (from -r requirements.txt (line 4)) (4.1.1)\n",
            "Requirement already satisfied: certifi==2020.6.20 in /usr/local/lib/python3.6/dist-packages (from -r requirements.txt (line 5)) (2020.6.20)\n",
            "Requirement already satisfied: chardet==3.0.4 in /usr/local/lib/python3.6/dist-packages (from -r requirements.txt (line 6)) (3.0.4)\n",
            "Requirement already satisfied: click==7.1.2 in /usr/local/lib/python3.6/dist-packages (from -r requirements.txt (line 7)) (7.1.2)\n",
            "Requirement already satisfied: cycler==0.10.0 in /usr/local/lib/python3.6/dist-packages (from -r requirements.txt (line 8)) (0.10.0)\n",
            "Requirement already satisfied: decorator==4.4.2 in /usr/local/lib/python3.6/dist-packages (from -r requirements.txt (line 9)) (4.4.2)\n",
            "Requirement already satisfied: docopt==0.6.2 in /usr/local/lib/python3.6/dist-packages (from -r requirements.txt (line 10)) (0.6.2)\n",
            "Requirement already satisfied: gast==0.3.3 in /usr/local/lib/python3.6/dist-packages (from -r requirements.txt (line 11)) (0.3.3)\n",
            "Requirement already satisfied: google-auth==1.19.2 in /usr/local/lib/python3.6/dist-packages (from -r requirements.txt (line 12)) (1.19.2)\n",
            "Requirement already satisfied: google-auth-oauthlib==0.4.1 in /usr/local/lib/python3.6/dist-packages (from -r requirements.txt (line 13)) (0.4.1)\n",
            "Requirement already satisfied: google-pasta==0.2.0 in /usr/local/lib/python3.6/dist-packages (from -r requirements.txt (line 14)) (0.2.0)\n",
            "Requirement already satisfied: grpcio==1.30.0 in /usr/local/lib/python3.6/dist-packages (from -r requirements.txt (line 15)) (1.30.0)\n",
            "Requirement already satisfied: h5py==2.10.0 in /usr/local/lib/python3.6/dist-packages (from -r requirements.txt (line 16)) (2.10.0)\n",
            "Requirement already satisfied: idna==2.10 in /usr/local/lib/python3.6/dist-packages (from -r requirements.txt (line 17)) (2.10)\n",
            "Requirement already satisfied: importlib-metadata==1.7.0 in /usr/local/lib/python3.6/dist-packages (from -r requirements.txt (line 18)) (1.7.0)\n",
            "Requirement already satisfied: ipykernel==5.3.2 in /usr/local/lib/python3.6/dist-packages (from -r requirements.txt (line 19)) (5.3.2)\n",
            "Requirement already satisfied: ipython==7.16.1 in /usr/local/lib/python3.6/dist-packages (from -r requirements.txt (line 20)) (7.16.1)\n",
            "Requirement already satisfied: ipython-genutils==0.2.0 in /usr/local/lib/python3.6/dist-packages (from -r requirements.txt (line 21)) (0.2.0)\n",
            "Requirement already satisfied: jedi==0.17.1 in /usr/local/lib/python3.6/dist-packages (from -r requirements.txt (line 22)) (0.17.1)\n",
            "Requirement already satisfied: joblib==0.16.0 in /usr/local/lib/python3.6/dist-packages (from -r requirements.txt (line 23)) (0.16.0)\n",
            "Requirement already satisfied: jupyter-client==6.1.6 in /usr/local/lib/python3.6/dist-packages (from -r requirements.txt (line 24)) (6.1.6)\n",
            "Requirement already satisfied: jupyter-core==4.6.3 in /usr/local/lib/python3.6/dist-packages (from -r requirements.txt (line 25)) (4.6.3)\n",
            "Requirement already satisfied: Keras==2.4.3 in /usr/local/lib/python3.6/dist-packages (from -r requirements.txt (line 26)) (2.4.3)\n",
            "Requirement already satisfied: Keras-Preprocessing==1.1.2 in /usr/local/lib/python3.6/dist-packages (from -r requirements.txt (line 27)) (1.1.2)\n",
            "Requirement already satisfied: kiwisolver==1.2.0 in /usr/local/lib/python3.6/dist-packages (from -r requirements.txt (line 28)) (1.2.0)\n",
            "Requirement already satisfied: Markdown==3.2.2 in /usr/local/lib/python3.6/dist-packages (from -r requirements.txt (line 29)) (3.2.2)\n",
            "Requirement already satisfied: matplotlib==3.3.0 in /usr/local/lib/python3.6/dist-packages (from -r requirements.txt (line 30)) (3.3.0)\n",
            "Requirement already satisfied: nltk==3.5 in /usr/local/lib/python3.6/dist-packages (from -r requirements.txt (line 31)) (3.5)\n",
            "Requirement already satisfied: num2words==0.5.10 in /usr/local/lib/python3.6/dist-packages (from -r requirements.txt (line 32)) (0.5.10)\n",
            "Requirement already satisfied: numpy==1.18.5 in /usr/local/lib/python3.6/dist-packages (from -r requirements.txt (line 33)) (1.18.5)\n",
            "Requirement already satisfied: oauthlib==3.1.0 in /usr/local/lib/python3.6/dist-packages (from -r requirements.txt (line 34)) (3.1.0)\n",
            "Requirement already satisfied: opt-einsum==3.2.1 in /usr/local/lib/python3.6/dist-packages (from -r requirements.txt (line 35)) (3.2.1)\n",
            "Requirement already satisfied: pandas==1.0.5 in /usr/local/lib/python3.6/dist-packages (from -r requirements.txt (line 36)) (1.0.5)\n",
            "Requirement already satisfied: parso==0.7.0 in /usr/local/lib/python3.6/dist-packages (from -r requirements.txt (line 37)) (0.7.0)\n",
            "Requirement already satisfied: pexpect==4.8.0 in /usr/local/lib/python3.6/dist-packages (from -r requirements.txt (line 38)) (4.8.0)\n",
            "Requirement already satisfied: pickleshare==0.7.5 in /usr/local/lib/python3.6/dist-packages (from -r requirements.txt (line 39)) (0.7.5)\n",
            "Requirement already satisfied: Pillow==7.2.0 in /usr/local/lib/python3.6/dist-packages (from -r requirements.txt (line 40)) (7.2.0)\n",
            "Requirement already satisfied: prompt-toolkit==3.0.5 in /usr/local/lib/python3.6/dist-packages (from -r requirements.txt (line 41)) (3.0.5)\n",
            "Requirement already satisfied: protobuf==3.12.2 in /usr/local/lib/python3.6/dist-packages (from -r requirements.txt (line 42)) (3.12.2)\n",
            "Requirement already satisfied: ptyprocess==0.6.0 in /usr/local/lib/python3.6/dist-packages (from -r requirements.txt (line 43)) (0.6.0)\n",
            "Requirement already satisfied: pyasn1==0.4.8 in /usr/local/lib/python3.6/dist-packages (from -r requirements.txt (line 44)) (0.4.8)\n",
            "Requirement already satisfied: pyasn1-modules==0.2.8 in /usr/local/lib/python3.6/dist-packages (from -r requirements.txt (line 45)) (0.2.8)\n",
            "Requirement already satisfied: Pygments==2.6.1 in /usr/local/lib/python3.6/dist-packages (from -r requirements.txt (line 46)) (2.6.1)\n",
            "Requirement already satisfied: pyparsing==2.4.7 in /usr/local/lib/python3.6/dist-packages (from -r requirements.txt (line 47)) (2.4.7)\n",
            "Requirement already satisfied: python-dateutil==2.8.1 in /usr/local/lib/python3.6/dist-packages (from -r requirements.txt (line 48)) (2.8.1)\n",
            "Requirement already satisfied: pytz==2020.1 in /usr/local/lib/python3.6/dist-packages (from -r requirements.txt (line 49)) (2020.1)\n",
            "Requirement already satisfied: PyYAML==5.3.1 in /usr/local/lib/python3.6/dist-packages (from -r requirements.txt (line 50)) (5.3.1)\n",
            "Requirement already satisfied: pyzmq==19.0.1 in /usr/local/lib/python3.6/dist-packages (from -r requirements.txt (line 51)) (19.0.1)\n",
            "Requirement already satisfied: regex==2020.7.14 in /usr/local/lib/python3.6/dist-packages (from -r requirements.txt (line 52)) (2020.7.14)\n",
            "Requirement already satisfied: requests==2.24.0 in /usr/local/lib/python3.6/dist-packages (from -r requirements.txt (line 53)) (2.24.0)\n",
            "Requirement already satisfied: requests-oauthlib==1.3.0 in /usr/local/lib/python3.6/dist-packages (from -r requirements.txt (line 54)) (1.3.0)\n",
            "Requirement already satisfied: rsa==4.6 in /usr/local/lib/python3.6/dist-packages (from -r requirements.txt (line 55)) (4.6)\n",
            "Requirement already satisfied: scikit-learn==0.23.1 in /usr/local/lib/python3.6/dist-packages (from -r requirements.txt (line 56)) (0.23.1)\n",
            "Requirement already satisfied: scipy==1.4.1 in /usr/local/lib/python3.6/dist-packages (from -r requirements.txt (line 57)) (1.4.1)\n",
            "Requirement already satisfied: six==1.15.0 in /usr/local/lib/python3.6/dist-packages (from -r requirements.txt (line 58)) (1.15.0)\n",
            "Requirement already satisfied: sklearn==0.0 in /usr/local/lib/python3.6/dist-packages (from -r requirements.txt (line 59)) (0.0)\n",
            "Requirement already satisfied: tensorboard==2.2.2 in /usr/local/lib/python3.6/dist-packages (from -r requirements.txt (line 60)) (2.2.2)\n",
            "Requirement already satisfied: tensorboard-plugin-wit==1.7.0 in /usr/local/lib/python3.6/dist-packages (from -r requirements.txt (line 61)) (1.7.0)\n",
            "Requirement already satisfied: tensorflow==2.2.0 in /usr/local/lib/python3.6/dist-packages (from -r requirements.txt (line 62)) (2.2.0)\n",
            "Requirement already satisfied: tensorflow-estimator==2.2.0 in /usr/local/lib/python3.6/dist-packages (from -r requirements.txt (line 63)) (2.2.0)\n",
            "Requirement already satisfied: termcolor==1.1.0 in /usr/local/lib/python3.6/dist-packages (from -r requirements.txt (line 64)) (1.1.0)\n",
            "Requirement already satisfied: threadpoolctl==2.1.0 in /usr/local/lib/python3.6/dist-packages (from -r requirements.txt (line 65)) (2.1.0)\n",
            "Requirement already satisfied: tokenizer==2.1.0 in /usr/local/lib/python3.6/dist-packages (from -r requirements.txt (line 66)) (2.1.0)\n",
            "Requirement already satisfied: tornado==6.0.4 in /usr/local/lib/python3.6/dist-packages (from -r requirements.txt (line 67)) (6.0.4)\n",
            "Requirement already satisfied: tqdm==4.48.0 in /usr/local/lib/python3.6/dist-packages (from -r requirements.txt (line 68)) (4.48.0)\n",
            "Requirement already satisfied: traitlets==4.3.3 in /usr/local/lib/python3.6/dist-packages (from -r requirements.txt (line 69)) (4.3.3)\n",
            "Requirement already satisfied: urllib3==1.25.9 in /usr/local/lib/python3.6/dist-packages (from -r requirements.txt (line 70)) (1.25.9)\n",
            "Requirement already satisfied: wcwidth==0.2.5 in /usr/local/lib/python3.6/dist-packages (from -r requirements.txt (line 71)) (0.2.5)\n",
            "Requirement already satisfied: Werkzeug==1.0.1 in /usr/local/lib/python3.6/dist-packages (from -r requirements.txt (line 72)) (1.0.1)\n",
            "Requirement already satisfied: wrapt==1.12.1 in /usr/local/lib/python3.6/dist-packages (from -r requirements.txt (line 73)) (1.12.1)\n",
            "Requirement already satisfied: xgboost==1.1.1 in /usr/local/lib/python3.6/dist-packages (from -r requirements.txt (line 74)) (1.1.1)\n",
            "Requirement already satisfied: zipp==3.1.0 in /usr/local/lib/python3.6/dist-packages (from -r requirements.txt (line 75)) (3.1.0)\n",
            "Requirement already satisfied: wheel<1.0,>=0.23.0 in /usr/local/lib/python3.6/dist-packages (from astunparse==1.6.3->-r requirements.txt (line 2)) (0.34.2)\n",
            "Requirement already satisfied: setuptools>=40.3.0 in /usr/local/lib/python3.6/dist-packages (from google-auth==1.19.2->-r requirements.txt (line 12)) (49.1.0)\n"
          ],
          "name": "stdout"
        }
      ]
    },
    {
      "cell_type": "code",
      "metadata": {
        "id": "0u5Z5gNJiI3I",
        "colab_type": "code",
        "colab": {
          "base_uri": "https://localhost:8080/",
          "height": 54
        },
        "outputId": "c0ce00fc-32b0-4ba2-c10b-dc03632e2e8a"
      },
      "source": [
        "from google.colab import drive\n",
        "drive.mount('/content/gdrive')"
      ],
      "execution_count": null,
      "outputs": [
        {
          "output_type": "stream",
          "text": [
            "Drive already mounted at /content/gdrive; to attempt to forcibly remount, call drive.mount(\"/content/gdrive\", force_remount=True).\n"
          ],
          "name": "stdout"
        }
      ]
    },
    {
      "cell_type": "code",
      "metadata": {
        "id": "KJp1ykDok1EX",
        "colab_type": "code",
        "colab": {
          "base_uri": "https://localhost:8080/",
          "height": 34
        },
        "outputId": "01d4db19-7c09-462e-b6de-9372fc2a35a4"
      },
      "source": [
        "! ls /content/gdrive/My\\ Drive/arafat/features_train.pickle"
      ],
      "execution_count": null,
      "outputs": [
        {
          "output_type": "stream",
          "text": [
            "'/content/gdrive/My Drive/arafat/features_train.pickle'\n"
          ],
          "name": "stdout"
        }
      ]
    },
    {
      "cell_type": "code",
      "metadata": {
        "id": "-iV23KIymbBv",
        "colab_type": "code",
        "colab": {}
      },
      "source": [
        "import pickle\n",
        "path_features_train = \"/content/gdrive/My Drive/arafat/features_train.pickle\"\n",
        "with open(path_features_train, 'rb') as data:\n",
        "    features_train = pickle.load(data)"
      ],
      "execution_count": null,
      "outputs": []
    },
    {
      "cell_type": "code",
      "metadata": {
        "id": "TKIkmSpEnQ8f",
        "colab_type": "code",
        "colab": {}
      },
      "source": [
        "path_labels_train = \"/content/gdrive/My Drive/arafat/labels_train.pickle\"\n",
        "with open(path_labels_train, 'rb') as data:\n",
        "    labels_train = pickle.load(data)"
      ],
      "execution_count": null,
      "outputs": []
    },
    {
      "cell_type": "code",
      "metadata": {
        "id": "bA6AZVlIndCl",
        "colab_type": "code",
        "colab": {}
      },
      "source": [
        "path_features_test = \"/content/gdrive/My Drive/arafat/features_test.pickle\"\n",
        "with open(path_features_test, 'rb') as data:\n",
        "    features_test = pickle.load(data)"
      ],
      "execution_count": null,
      "outputs": []
    },
    {
      "cell_type": "code",
      "metadata": {
        "id": "zS06Sj6ioKXR",
        "colab_type": "code",
        "colab": {}
      },
      "source": [
        "path_labels_test = \"/content/gdrive/My Drive/arafat/labels_test.pickle\"\n",
        "with open(path_labels_test, 'rb') as data:\n",
        "    labels_test = pickle.load(data)"
      ],
      "execution_count": null,
      "outputs": []
    },
    {
      "cell_type": "code",
      "metadata": {
        "id": "dxDxbfQEomD0",
        "colab_type": "code",
        "colab": {
          "base_uri": "https://localhost:8080/",
          "height": 85
        },
        "outputId": "3ec4fdcc-8886-47db-dbd3-e7698718d20b"
      },
      "source": [
        "print(features_train.shape)\n",
        "print(features_test.shape)\n",
        "print(labels_train.shape)\n",
        "print(labels_test.shape)"
      ],
      "execution_count": null,
      "outputs": [
        {
          "output_type": "stream",
          "text": [
            "(57207, 5000)\n",
            "(6357, 5000)\n",
            "(57207,)\n",
            "(6357,)\n"
          ],
          "name": "stdout"
        }
      ]
    },
    {
      "cell_type": "code",
      "metadata": {
        "id": "8oPmwIB5pIvD",
        "colab_type": "code",
        "colab": {}
      },
      "source": [
        "import pickle\n",
        "import numpy as np\n",
        "from sklearn.feature_extraction.text import TfidfVectorizer\n",
        "from sklearn import svm\n",
        "from pprint import pprint\n",
        "from sklearn.model_selection import RandomizedSearchCV\n",
        "from sklearn.model_selection import GridSearchCV\n",
        "from sklearn.metrics import classification_report, confusion_matrix, accuracy_score\n",
        "from sklearn.model_selection import ShuffleSplit\n",
        "import matplotlib.pyplot as plt\n",
        "import seaborn as sns\n",
        "import pandas as pd"
      ],
      "execution_count": null,
      "outputs": []
    },
    {
      "cell_type": "code",
      "metadata": {
        "id": "qNV0w7UuqQZe",
        "colab_type": "code",
        "colab": {}
      },
      "source": [
        "# svc_0 =svm.SVC()\n",
        "\n",
        "# print('Parameters currently in use:\\n')\n",
        "# print(svc_0.get_params())"
      ],
      "execution_count": null,
      "outputs": []
    },
    {
      "cell_type": "code",
      "metadata": {
        "id": "T_barrvSqbxD",
        "colab_type": "code",
        "colab": {}
      },
      "source": [
        "# # C\n",
        "# C = [.001, .01,.1,.5,1]\n",
        "\n",
        "# # gamma\n",
        "# gamma = [.01, .1, 1]\n",
        "\n",
        "# # degree\n",
        "# degree = [1,2,3]\n",
        "\n",
        "# # kernel\n",
        "# kernel = ['linear']\n",
        "\n",
        "# # probability\n",
        "\n",
        "# # Create the random grid\n",
        "# random_grid = {'C': C,\n",
        "#               'kernel': kernel,\n",
        "#               'gamma': gamma,\n",
        "#               'degree': degree\n",
        "#              }\n",
        "\n",
        "# print(random_grid)"
      ],
      "execution_count": null,
      "outputs": []
    },
    {
      "cell_type": "code",
      "metadata": {
        "id": "2nBYZkxPrnO7",
        "colab_type": "code",
        "colab": {}
      },
      "source": [
        "# # First create the base model to tune\n",
        "# svc = svm.SVC(random_state=8)\n",
        "\n",
        "# # Definition of the random search\n",
        "# random_search = RandomizedSearchCV(estimator=svc,\n",
        "#                                    param_distributions=random_grid,\n",
        "#                                    n_iter=1,\n",
        "#                                    scoring='accuracy',\n",
        "#                                    cv=3, \n",
        "#                                    verbose=1, \n",
        "#                                    random_state=8)\n",
        "\n",
        "# # Fit the random search model\n",
        "# random_search.fit(features_train, labels_train)"
      ],
      "execution_count": null,
      "outputs": []
    },
    {
      "cell_type": "code",
      "metadata": {
        "id": "8UX0RlYFrtFl",
        "colab_type": "code",
        "colab": {}
      },
      "source": [
        "# print(\"The best hyperparameters from Random Search are:\")\n",
        "# print(random_search.best_params_)\n",
        "# print(\"\")\n",
        "# print(\"The mean accuracy of a model with these hyperparameters is:\")\n",
        "# print(random_search.best_score_)"
      ],
      "execution_count": null,
      "outputs": []
    },
    {
      "cell_type": "code",
      "metadata": {
        "id": "qgWHtuMQ6FHH",
        "colab_type": "code",
        "colab": {}
      },
      "source": [
        ""
      ],
      "execution_count": null,
      "outputs": []
    },
    {
      "cell_type": "markdown",
      "metadata": {
        "id": "lJwFiNBW8aEF",
        "colab_type": "text"
      },
      "source": [
        "Grid Search cross validation"
      ]
    },
    {
      "cell_type": "code",
      "metadata": {
        "id": "xXGlJqsf8fVY",
        "colab_type": "code",
        "colab": {}
      },
      "source": [
        "# # Create the parameter grid based on the results of random search \n",
        "# C = [float(x) for x in np.linspace(start = 0.5, stop = 1, num = 5)]\n",
        "\n",
        "\n",
        "# param_grid = [\n",
        "#   {'C': C}\n",
        "# ]\n",
        "\n",
        "# # Create a base model\n",
        "# svc = svm.SVC()\n",
        "\n",
        "# # Manually create the splits in CV in order to be able to fix a random_state (GridSearchCV doesn't have that argument)\n",
        "# # cv_sets = ShuffleSplit(n_splits = 3, test_size = .33, random_state = 8)\n",
        "\n",
        "# # Instantiate the grid search model\n",
        "# grid_search = GridSearchCV(estimator=svc, \n",
        "#                            param_grid=param_grid,\n",
        "#                            scoring='accuracy',\n",
        "#                            cv = 3,\n",
        "#                            verbose=1)\n",
        "\n",
        "# # Fit the grid search to the data\n",
        "# grid_search.fit(features_train, labels_train)"
      ],
      "execution_count": null,
      "outputs": []
    },
    {
      "cell_type": "code",
      "metadata": {
        "id": "L2MZG-gLJUTi",
        "colab_type": "code",
        "colab": {
          "base_uri": "https://localhost:8080/",
          "height": 238
        },
        "outputId": "f66257f2-f52e-4e2d-9c70-88437bc44994"
      },
      "source": [
        "#ADABOOST Classifier\n",
        "from sklearn.ensemble import AdaBoostRegressor\n",
        "from sklearn.model_selection import RandomizedSearchCV\n",
        "\n",
        "param_dist = {\n",
        " 'n_estimators': [50, 100],\n",
        " 'learning_rate' : [0.01,0.05,0.1,0.3,1],\n",
        " 'loss' : ['linear', 'square', 'exponential']\n",
        " }\n",
        "\n",
        "grid_search = RandomizedSearchCV(AdaBoostRegressor(),\n",
        " param_distributions = param_dist,\n",
        " cv=3,\n",
        " n_iter = 10,\n",
        " n_jobs=-1)\n",
        "\n",
        "grid_search.fit(features_train, labels_train)"
      ],
      "execution_count": null,
      "outputs": [
        {
          "output_type": "execute_result",
          "data": {
            "text/plain": [
              "RandomizedSearchCV(cv=3, error_score=nan,\n",
              "                   estimator=AdaBoostRegressor(base_estimator=None,\n",
              "                                               learning_rate=1.0, loss='linear',\n",
              "                                               n_estimators=50,\n",
              "                                               random_state=None),\n",
              "                   iid='deprecated', n_iter=10, n_jobs=-1,\n",
              "                   param_distributions={'learning_rate': [0.01, 0.05, 0.1, 0.3,\n",
              "                                                          1],\n",
              "                                        'loss': ['linear', 'square',\n",
              "                                                 'exponential'],\n",
              "                                        'n_estimators': [50, 100]},\n",
              "                   pre_dispatch='2*n_jobs', random_state=None, refit=True,\n",
              "                   return_train_score=False, scoring=None, verbose=0)"
            ]
          },
          "metadata": {
            "tags": []
          },
          "execution_count": 28
        }
      ]
    },
    {
      "cell_type": "code",
      "metadata": {
        "id": "qaOnGbq09Jw5",
        "colab_type": "code",
        "colab": {
          "base_uri": "https://localhost:8080/",
          "height": 102
        },
        "outputId": "ede6c36b-a3ae-4cf5-f1cc-af60d652017a"
      },
      "source": [
        "print(\"The best hyperparameters from Grid Search are:\")\n",
        "print(grid_search.best_params_)\n",
        "print(\"\")\n",
        "print(\"The mean accuracy of a model with these hyperparameters is:\")\n",
        "print(grid_search.best_score_)"
      ],
      "execution_count": null,
      "outputs": [
        {
          "output_type": "stream",
          "text": [
            "The best hyperparameters from Grid Search are:\n",
            "{'C': 1.0}\n",
            "\n",
            "The mean accuracy of a model with these hyperparameters is:\n",
            "0.8035555089412135\n"
          ],
          "name": "stdout"
        }
      ]
    },
    {
      "cell_type": "code",
      "metadata": {
        "id": "mE6OlYhQ9Xfe",
        "colab_type": "code",
        "colab": {}
      },
      "source": [
        "best_svc = grid_search.best_estimator_"
      ],
      "execution_count": null,
      "outputs": []
    },
    {
      "cell_type": "code",
      "metadata": {
        "id": "4hbKra0RS7GD",
        "colab_type": "code",
        "colab": {
          "base_uri": "https://localhost:8080/",
          "height": 51
        },
        "outputId": "04c78b80-d719-4457-d12b-8c3e405953e1"
      },
      "source": [
        "best_svc"
      ],
      "execution_count": null,
      "outputs": [
        {
          "output_type": "execute_result",
          "data": {
            "text/plain": [
              "AdaBoostRegressor(base_estimator=None, learning_rate=0.3, loss='exponential',\n",
              "                  n_estimators=100, random_state=None)"
            ]
          },
          "metadata": {
            "tags": []
          },
          "execution_count": 30
        }
      ]
    },
    {
      "cell_type": "code",
      "metadata": {
        "id": "WqRrhjjDTAZl",
        "colab_type": "code",
        "colab": {
          "base_uri": "https://localhost:8080/",
          "height": 34
        },
        "outputId": "25a44f8c-d050-4b55-f361-82a0441769fb"
      },
      "source": [
        "\n",
        "best_svc.fit(features_train, labels_train)"
      ],
      "execution_count": null,
      "outputs": [
        {
          "output_type": "execute_result",
          "data": {
            "text/plain": [
              "SVC()"
            ]
          },
          "metadata": {
            "tags": []
          },
          "execution_count": 20
        }
      ]
    },
    {
      "cell_type": "code",
      "metadata": {
        "id": "MMFJKe5KTIYm",
        "colab_type": "code",
        "colab": {}
      },
      "source": [
        "svc_pred = best_svc.predict(features_test)"
      ],
      "execution_count": null,
      "outputs": []
    },
    {
      "cell_type": "code",
      "metadata": {
        "id": "smTN3O9GUTxz",
        "colab_type": "code",
        "colab": {
          "base_uri": "https://localhost:8080/",
          "height": 51
        },
        "outputId": "e8383838-c5b1-49b7-b27e-dfee678b487c"
      },
      "source": [
        "# Training accuracy\n",
        "print(\"The training accuracy is: \")\n",
        "print(accuracy_score(labels_train, best_svc.predict(features_train)))"
      ],
      "execution_count": null,
      "outputs": [
        {
          "output_type": "stream",
          "text": [
            "The training accuracy is: \n",
            "0.812138374674428\n"
          ],
          "name": "stdout"
        }
      ]
    },
    {
      "cell_type": "code",
      "metadata": {
        "id": "aXVetH0sUY_8",
        "colab_type": "code",
        "colab": {
          "base_uri": "https://localhost:8080/",
          "height": 51
        },
        "outputId": "56f74e35-e72c-4c8e-e1e8-b10ace056108"
      },
      "source": [
        "# Test accuracy\n",
        "print(\"The test accuracy is: \")\n",
        "print(accuracy_score(labels_test, svc_pred))"
      ],
      "execution_count": null,
      "outputs": [
        {
          "output_type": "stream",
          "text": [
            "The test accuracy is: \n",
            "0.8002202296680825\n"
          ],
          "name": "stdout"
        }
      ]
    },
    {
      "cell_type": "code",
      "metadata": {
        "id": "eHnozXtMUm3p",
        "colab_type": "code",
        "colab": {
          "base_uri": "https://localhost:8080/",
          "height": 187
        },
        "outputId": "6aa52a32-1d6b-47df-9125-72c4d81f0b7e"
      },
      "source": [
        "\n",
        "# Classification report\n",
        "print(\"Classification report\")\n",
        "print(classification_report(labels_test,svc_pred))"
      ],
      "execution_count": null,
      "outputs": [
        {
          "output_type": "stream",
          "text": [
            "Classification report\n",
            "              precision    recall  f1-score   support\n",
            "\n",
            "           0       0.75      0.92      0.82      3200\n",
            "           1       0.89      0.68      0.77      3157\n",
            "\n",
            "    accuracy                           0.80      6357\n",
            "   macro avg       0.82      0.80      0.80      6357\n",
            "weighted avg       0.82      0.80      0.80      6357\n",
            "\n"
          ],
          "name": "stdout"
        }
      ]
    },
    {
      "cell_type": "code",
      "metadata": {
        "id": "8vTw3k6_UqzZ",
        "colab_type": "code",
        "colab": {
          "base_uri": "https://localhost:8080/",
          "height": 34
        },
        "outputId": "c0073352-88d6-4782-f223-ac4ce26b225a"
      },
      "source": [
        "base_model = svm.SVC()\n",
        "base_model.fit(features_train, labels_train)\n",
        "accuracy_score(labels_test, base_model.predict(features_test))"
      ],
      "execution_count": null,
      "outputs": [
        {
          "output_type": "execute_result",
          "data": {
            "text/plain": [
              "0.8002202296680825"
            ]
          },
          "metadata": {
            "tags": []
          },
          "execution_count": 27
        }
      ]
    },
    {
      "cell_type": "code",
      "metadata": {
        "id": "rk36reXUUusF",
        "colab_type": "code",
        "colab": {
          "base_uri": "https://localhost:8080/",
          "height": 34
        },
        "outputId": "9f0b7837-8b2d-4b5e-b8e8-a65d59f0f0a6"
      },
      "source": [
        "\n",
        "best_svc.fit(features_train, labels_train)\n",
        "accuracy_score(labels_test, best_svc.predict(features_test))"
      ],
      "execution_count": null,
      "outputs": [
        {
          "output_type": "execute_result",
          "data": {
            "text/plain": [
              "0.8002202296680825"
            ]
          },
          "metadata": {
            "tags": []
          },
          "execution_count": 28
        }
      ]
    },
    {
      "cell_type": "code",
      "metadata": {
        "id": "uL3lJcBPWR19",
        "colab_type": "code",
        "colab": {}
      },
      "source": [
        "d = {\n",
        "     'Model': 'SVM',\n",
        "     'Training Set Accuracy': accuracy_score(labels_train, best_svc.predict(features_train)),\n",
        "     'Test Set Accuracy': accuracy_score(labels_test, svc_pred)\n",
        "}\n",
        "\n",
        "df_models_svc = pd.DataFrame(d, index=[0])"
      ],
      "execution_count": null,
      "outputs": []
    },
    {
      "cell_type": "code",
      "metadata": {
        "id": "vd-yYkNCXCHG",
        "colab_type": "code",
        "colab": {
          "base_uri": "https://localhost:8080/",
          "height": 80
        },
        "outputId": "8b64cc22-e726-47a0-85a2-04b40d68f105"
      },
      "source": [
        "df_models_svc"
      ],
      "execution_count": null,
      "outputs": [
        {
          "output_type": "execute_result",
          "data": {
            "text/html": [
              "<div>\n",
              "<style scoped>\n",
              "    .dataframe tbody tr th:only-of-type {\n",
              "        vertical-align: middle;\n",
              "    }\n",
              "\n",
              "    .dataframe tbody tr th {\n",
              "        vertical-align: top;\n",
              "    }\n",
              "\n",
              "    .dataframe thead th {\n",
              "        text-align: right;\n",
              "    }\n",
              "</style>\n",
              "<table border=\"1\" class=\"dataframe\">\n",
              "  <thead>\n",
              "    <tr style=\"text-align: right;\">\n",
              "      <th></th>\n",
              "      <th>Model</th>\n",
              "      <th>Training Set Accuracy</th>\n",
              "      <th>Test Set Accuracy</th>\n",
              "    </tr>\n",
              "  </thead>\n",
              "  <tbody>\n",
              "    <tr>\n",
              "      <th>0</th>\n",
              "      <td>SVM</td>\n",
              "      <td>0.812138</td>\n",
              "      <td>0.80022</td>\n",
              "    </tr>\n",
              "  </tbody>\n",
              "</table>\n",
              "</div>"
            ],
            "text/plain": [
              "  Model  Training Set Accuracy  Test Set Accuracy\n",
              "0   SVM               0.812138            0.80022"
            ]
          },
          "metadata": {
            "tags": []
          },
          "execution_count": 30
        }
      ]
    },
    {
      "cell_type": "code",
      "metadata": {
        "id": "H9QOTmLOXbX9",
        "colab_type": "code",
        "colab": {}
      },
      "source": [
        "with open('/content/gdrive/My Drive/colab_work/best_svc.pickle', 'wb') as output:\n",
        "    pickle.dump(best_svc, output)\n",
        "    \n",
        "with open('/content/gdrive/My Drive/colab_work/df_models_svc.pickle', 'wb') as output:\n",
        "    pickle.dump(df_models_svc, output)"
      ],
      "execution_count": null,
      "outputs": []
    },
    {
      "cell_type": "code",
      "metadata": {
        "id": "HRoLFZUCX0wG",
        "colab_type": "code",
        "colab": {}
      },
      "source": [
        ""
      ],
      "execution_count": null,
      "outputs": []
    }
  ]
}