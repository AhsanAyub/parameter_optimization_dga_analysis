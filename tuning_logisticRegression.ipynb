{
  "nbformat": 4,
  "nbformat_minor": 0,
  "metadata": {
    "colab": {
      "name": "tuning_logisticRegression",
      "provenance": [],
      "collapsed_sections": []
    },
    "kernelspec": {
      "name": "python3",
      "display_name": "Python 3"
    }
  },
  "cells": [
    {
      "cell_type": "code",
      "metadata": {
        "id": "qDTmmSTPovY4",
        "colab_type": "code",
        "colab": {
          "base_uri": "https://localhost:8080/",
          "height": 34
        },
        "outputId": "2dbdc218-cd3a-496e-b6c1-3017b8b139f0"
      },
      "source": [
        "from google.colab import drive\n",
        "drive.mount('/content/gdrive')"
      ],
      "execution_count": null,
      "outputs": [
        {
          "output_type": "stream",
          "text": [
            "Drive already mounted at /content/gdrive; to attempt to forcibly remount, call drive.mount(\"/content/gdrive\", force_remount=True).\n"
          ],
          "name": "stdout"
        }
      ]
    },
    {
      "cell_type": "code",
      "metadata": {
        "id": "TTe6DmRcrfTD",
        "colab_type": "code",
        "colab": {
          "base_uri": "https://localhost:8080/",
          "height": 51
        },
        "outputId": "c6da98d8-a26f-4776-bb07-46773ef10061"
      },
      "source": [
        "cd sample_data"
      ],
      "execution_count": null,
      "outputs": [
        {
          "output_type": "stream",
          "text": [
            "[Errno 2] No such file or directory: 'sample_data'\n",
            "/content/sample_data\n"
          ],
          "name": "stdout"
        }
      ]
    },
    {
      "cell_type": "code",
      "metadata": {
        "id": "NP26A34KrtpL",
        "colab_type": "code",
        "colab": {}
      },
      "source": [
        "# !pip install -r requirements.txt"
      ],
      "execution_count": null,
      "outputs": []
    },
    {
      "cell_type": "code",
      "metadata": {
        "id": "l4rv1rq0rxYa",
        "colab_type": "code",
        "colab": {
          "base_uri": "https://localhost:8080/",
          "height": 34
        },
        "outputId": "a0a0cc7a-d6f9-432a-c02e-d8b26806af30"
      },
      "source": [
        "! ls /content/gdrive/My\\ Drive/colab_work/features_train.pickle"
      ],
      "execution_count": null,
      "outputs": [
        {
          "output_type": "stream",
          "text": [
            "'/content/gdrive/My Drive/colab_work/features_train.pickle'\n"
          ],
          "name": "stdout"
        }
      ]
    },
    {
      "cell_type": "code",
      "metadata": {
        "id": "7xCZWLo1sFKr",
        "colab_type": "code",
        "colab": {}
      },
      "source": [
        "import pickle\n",
        "path_features_train = \"/content/gdrive/My Drive/colab_work/features_train.pickle\"\n",
        "with open(path_features_train, 'rb') as data:\n",
        "    features_train = pickle.load(data)"
      ],
      "execution_count": null,
      "outputs": []
    },
    {
      "cell_type": "code",
      "metadata": {
        "id": "WDVp1Wv_s0c7",
        "colab_type": "code",
        "colab": {}
      },
      "source": [
        "path_labels_train = \"/content/gdrive/My Drive/colab_work/labels_train.pickle\"\n",
        "with open(path_labels_train, 'rb') as data:\n",
        "    labels_train = pickle.load(data)"
      ],
      "execution_count": null,
      "outputs": []
    },
    {
      "cell_type": "code",
      "metadata": {
        "id": "vEjUtyrstRTL",
        "colab_type": "code",
        "colab": {}
      },
      "source": [
        "path_features_test = \"/content/gdrive/My Drive/colab_work/features_test.pickle\"\n",
        "with open(path_features_test, 'rb') as data:\n",
        "    features_test = pickle.load(data)"
      ],
      "execution_count": null,
      "outputs": []
    },
    {
      "cell_type": "code",
      "metadata": {
        "id": "GsJ3tIIrtX6j",
        "colab_type": "code",
        "colab": {}
      },
      "source": [
        "path_labels_test = \"/content/gdrive/My Drive/colab_work/labels_test.pickle\"\n",
        "with open(path_labels_test, 'rb') as data:\n",
        "    labels_test = pickle.load(data)"
      ],
      "execution_count": null,
      "outputs": []
    },
    {
      "cell_type": "code",
      "metadata": {
        "id": "p-ofsAaDvIvU",
        "colab_type": "code",
        "colab": {
          "base_uri": "https://localhost:8080/",
          "height": 85
        },
        "outputId": "91766855-42ca-4db8-b082-c1123896dae4"
      },
      "source": [
        "print(features_train.shape)\n",
        "print(features_test.shape)\n",
        "print(labels_train.shape)\n",
        "print(labels_test.shape)"
      ],
      "execution_count": null,
      "outputs": [
        {
          "output_type": "stream",
          "text": [
            "(57207, 5000)\n",
            "(6357, 5000)\n",
            "(57207,)\n",
            "(6357,)\n"
          ],
          "name": "stdout"
        }
      ]
    },
    {
      "cell_type": "code",
      "metadata": {
        "id": "PXisPk7kvN2u",
        "colab_type": "code",
        "colab": {}
      },
      "source": [
        "import pickle\n",
        "import numpy as np\n",
        "from sklearn.feature_extraction.text import TfidfVectorizer\n",
        "from sklearn.linear_model import LogisticRegression\n",
        "from pprint import pprint\n",
        "from sklearn.model_selection import RandomizedSearchCV\n",
        "from sklearn.model_selection import GridSearchCV\n",
        "from sklearn.metrics import classification_report, confusion_matrix, accuracy_score\n",
        "from sklearn.model_selection import ShuffleSplit\n",
        "import matplotlib.pyplot as plt\n",
        "import seaborn as sns\n",
        "import pandas as pd"
      ],
      "execution_count": null,
      "outputs": []
    },
    {
      "cell_type": "code",
      "metadata": {
        "id": "K1IzNOJivutF",
        "colab_type": "code",
        "colab": {
          "base_uri": "https://localhost:8080/",
          "height": 306
        },
        "outputId": "6c27f833-e33f-4868-c9f0-6f2aa87f17c7"
      },
      "source": [
        "lr_0 = LogisticRegression()\n",
        "\n",
        "print('Parameters currently in use:\\n')\n",
        "pprint(lr_0.get_params())"
      ],
      "execution_count": null,
      "outputs": [
        {
          "output_type": "stream",
          "text": [
            "Parameters currently in use:\n",
            "\n",
            "{'C': 1.0,\n",
            " 'class_weight': None,\n",
            " 'dual': False,\n",
            " 'fit_intercept': True,\n",
            " 'intercept_scaling': 1,\n",
            " 'l1_ratio': None,\n",
            " 'max_iter': 100,\n",
            " 'multi_class': 'auto',\n",
            " 'n_jobs': None,\n",
            " 'penalty': 'l2',\n",
            " 'random_state': None,\n",
            " 'solver': 'lbfgs',\n",
            " 'tol': 0.0001,\n",
            " 'verbose': 0,\n",
            " 'warm_start': False}\n"
          ],
          "name": "stdout"
        }
      ]
    },
    {
      "cell_type": "code",
      "metadata": {
        "id": "F-gYEx7Owe2U",
        "colab_type": "code",
        "colab": {
          "base_uri": "https://localhost:8080/",
          "height": 54
        },
        "outputId": "6e85ac2d-5196-47d0-fa0d-05eb1f4919cd"
      },
      "source": [
        "C = [float(x) for x in np.linspace(start = 0.1, stop = 2, num = 10)]\n",
        "\n",
        "# multi_class\n",
        "multi_class = ['multinomial']\n",
        "\n",
        "# solver\n",
        "solver = ['newton-cg', 'sag', 'saga']\n",
        " \n",
        "# class_weight\n",
        "class_weight = ['balanced', None]\n",
        "\n",
        "# penalty\n",
        "penalty = ['l2']\n",
        "\n",
        "# Create the random grid\n",
        "random_grid = {'C': C,\n",
        "               'multi_class': multi_class,\n",
        "               'solver': solver,\n",
        "               'class_weight': class_weight,\n",
        "               'penalty': penalty}\n",
        "\n",
        "print(random_grid)"
      ],
      "execution_count": null,
      "outputs": [
        {
          "output_type": "stream",
          "text": [
            "{'C': [0.1, 0.3111111111111111, 0.5222222222222223, 0.7333333333333333, 0.9444444444444444, 1.1555555555555557, 1.3666666666666667, 1.577777777777778, 1.788888888888889, 2.0], 'multi_class': ['multinomial'], 'solver': ['newton-cg', 'sag', 'saga'], 'class_weight': ['balanced', None], 'penalty': ['l2']}\n"
          ],
          "name": "stdout"
        }
      ]
    },
    {
      "cell_type": "code",
      "metadata": {
        "id": "-8oDKJUHysgq",
        "colab_type": "code",
        "colab": {
          "base_uri": "https://localhost:8080/",
          "height": 476
        },
        "outputId": "44d50a5a-6e9a-41f3-932f-052bdb2502c4"
      },
      "source": [
        "\n",
        "# First create the base model to tune\n",
        "lrc = LogisticRegression()\n",
        "\n",
        "# Definition of the random search\n",
        "random_search = RandomizedSearchCV(estimator=lrc,\n",
        "                                   param_distributions=random_grid,\n",
        "                                   n_iter=50,\n",
        "                                   scoring='accuracy',\n",
        "                                   cv=3, \n",
        "                                   verbose=1)\n",
        "\n",
        "# Fit the random search model\n",
        "random_search.fit(features_train, labels_train)"
      ],
      "execution_count": null,
      "outputs": [
        {
          "output_type": "stream",
          "text": [
            "Fitting 3 folds for each of 50 candidates, totalling 150 fits\n"
          ],
          "name": "stdout"
        },
        {
          "output_type": "stream",
          "text": [
            "[Parallel(n_jobs=1)]: Using backend SequentialBackend with 1 concurrent workers.\n",
            "[Parallel(n_jobs=1)]: Done 150 out of 150 | elapsed:  1.7min finished\n"
          ],
          "name": "stderr"
        },
        {
          "output_type": "execute_result",
          "data": {
            "text/plain": [
              "RandomizedSearchCV(cv=3, error_score=nan,\n",
              "                   estimator=LogisticRegression(C=1.0, class_weight=None,\n",
              "                                                dual=False, fit_intercept=True,\n",
              "                                                intercept_scaling=1,\n",
              "                                                l1_ratio=None, max_iter=100,\n",
              "                                                multi_class='auto', n_jobs=None,\n",
              "                                                penalty='l2', random_state=None,\n",
              "                                                solver='lbfgs', tol=0.0001,\n",
              "                                                verbose=0, warm_start=False),\n",
              "                   iid='deprecated', n_iter=50, n_jobs=None,\n",
              "                   param_distributions={'C':...\n",
              "                                              0.5222222222222223,\n",
              "                                              0.7333333333333333,\n",
              "                                              0.9444444444444444,\n",
              "                                              1.1555555555555557,\n",
              "                                              1.3666666666666667,\n",
              "                                              1.577777777777778,\n",
              "                                              1.788888888888889, 2.0],\n",
              "                                        'class_weight': ['balanced', None],\n",
              "                                        'multi_class': ['multinomial'],\n",
              "                                        'penalty': ['l2'],\n",
              "                                        'solver': ['newton-cg', 'sag', 'saga']},\n",
              "                   pre_dispatch='2*n_jobs', random_state=None, refit=True,\n",
              "                   return_train_score=False, scoring='accuracy', verbose=1)"
            ]
          },
          "metadata": {
            "tags": []
          },
          "execution_count": 47
        }
      ]
    },
    {
      "cell_type": "code",
      "metadata": {
        "id": "ZPylso4zy2TD",
        "colab_type": "code",
        "colab": {
          "base_uri": "https://localhost:8080/",
          "height": 102
        },
        "outputId": "6cbf5846-e28b-4a22-c866-9a11c8fd3f6e"
      },
      "source": [
        "\n",
        "print(\"The best hyperparameters from Random Search are:\")\n",
        "print(random_search.best_params_)\n",
        "print(\"\")\n",
        "print(\"The mean accuracy of a model with these hyperparameters is:\")\n",
        "print(random_search.best_score_)"
      ],
      "execution_count": null,
      "outputs": [
        {
          "output_type": "stream",
          "text": [
            "The best hyperparameters from Random Search are:\n",
            "{'solver': 'newton-cg', 'penalty': 'l2', 'multi_class': 'multinomial', 'class_weight': None, 'C': 2.0}\n",
            "\n",
            "The mean accuracy of a model with these hyperparameters is:\n",
            "0.7990805321027148\n"
          ],
          "name": "stdout"
        }
      ]
    },
    {
      "cell_type": "code",
      "metadata": {
        "id": "lcDpSyQdy34t",
        "colab_type": "code",
        "colab": {
          "base_uri": "https://localhost:8080/",
          "height": 408
        },
        "outputId": "910c11b5-a19e-4ac8-dbc1-1bdf6fb1e5d5"
      },
      "source": [
        "# Create the parameter grid based on the results of random search \n",
        "C = [float(x) for x in np.linspace(start = 0.6, stop = 2, num = 10)]\n",
        "multi_class = ['multinomial']\n",
        "solver = ['sag']\n",
        "class_weight = ['balanced']\n",
        "penalty = ['l2']\n",
        "\n",
        "param_grid = {'C': C,\n",
        "               'multi_class': multi_class,\n",
        "               'solver': solver,\n",
        "               'class_weight': class_weight,\n",
        "               'penalty': penalty}\n",
        "\n",
        "# Create a base model\n",
        "lrc = LogisticRegression()\n",
        "\n",
        "# Manually create the splits in CV in order to be able to fix a random_state (GridSearchCV doesn't have that argument)\n",
        "cv_sets = ShuffleSplit(n_splits = 3, test_size = .33, random_state = 8)\n",
        "\n",
        "# Instantiate the grid search model\n",
        "grid_search = GridSearchCV(estimator=lrc, \n",
        "                           param_grid=param_grid,\n",
        "                           scoring='accuracy',\n",
        "                           cv=cv_sets,\n",
        "                           verbose=1)\n",
        "\n",
        "# Fit the grid search to the data\n",
        "grid_search.fit(features_train, labels_train)"
      ],
      "execution_count": null,
      "outputs": [
        {
          "output_type": "stream",
          "text": [
            "Fitting 3 folds for each of 10 candidates, totalling 30 fits\n"
          ],
          "name": "stdout"
        },
        {
          "output_type": "stream",
          "text": [
            "[Parallel(n_jobs=1)]: Using backend SequentialBackend with 1 concurrent workers.\n",
            "[Parallel(n_jobs=1)]: Done  30 out of  30 | elapsed:    9.7s finished\n"
          ],
          "name": "stderr"
        },
        {
          "output_type": "execute_result",
          "data": {
            "text/plain": [
              "GridSearchCV(cv=ShuffleSplit(n_splits=3, random_state=8, test_size=0.33, train_size=None),\n",
              "             error_score=nan,\n",
              "             estimator=LogisticRegression(C=1.0, class_weight=None, dual=False,\n",
              "                                          fit_intercept=True,\n",
              "                                          intercept_scaling=1, l1_ratio=None,\n",
              "                                          max_iter=100, multi_class='auto',\n",
              "                                          n_jobs=None, penalty='l2',\n",
              "                                          random_state=None, solver='lbfgs',\n",
              "                                          tol=0.0001, verbose=0,\n",
              "                                          warm_start=False),\n",
              "             i...\n",
              "             param_grid={'C': [0.6, 0.7555555555555555, 0.9111111111111111,\n",
              "                               1.0666666666666667, 1.2222222222222223,\n",
              "                               1.3777777777777778, 1.5333333333333332,\n",
              "                               1.688888888888889, 1.8444444444444446, 2.0],\n",
              "                         'class_weight': ['balanced'],\n",
              "                         'multi_class': ['multinomial'], 'penalty': ['l2'],\n",
              "                         'solver': ['sag']},\n",
              "             pre_dispatch='2*n_jobs', refit=True, return_train_score=False,\n",
              "             scoring='accuracy', verbose=1)"
            ]
          },
          "metadata": {
            "tags": []
          },
          "execution_count": 52
        }
      ]
    },
    {
      "cell_type": "code",
      "metadata": {
        "id": "7La8uC3z0Yhf",
        "colab_type": "code",
        "colab": {
          "base_uri": "https://localhost:8080/",
          "height": 102
        },
        "outputId": "351fe3c1-2467-4f07-cb7b-a0a6de8d8c88"
      },
      "source": [
        "print(\"The best hyperparameters from Grid Search are:\")\n",
        "print(grid_search.best_params_)\n",
        "print(\"\")\n",
        "print(\"The mean accuracy of a model with these hyperparameters is:\")\n",
        "print(grid_search.best_score_)"
      ],
      "execution_count": null,
      "outputs": [
        {
          "output_type": "stream",
          "text": [
            "The best hyperparameters from Grid Search are:\n",
            "{'C': 2.0, 'class_weight': 'balanced', 'multi_class': 'multinomial', 'penalty': 'l2', 'solver': 'sag'}\n",
            "\n",
            "The mean accuracy of a model with these hyperparameters is:\n",
            "0.7984533079082579\n"
          ],
          "name": "stdout"
        }
      ]
    },
    {
      "cell_type": "code",
      "metadata": {
        "id": "897J0pM_0oC7",
        "colab_type": "code",
        "colab": {}
      },
      "source": [
        "\n",
        "best_lrc = grid_search.best_estimator_"
      ],
      "execution_count": null,
      "outputs": []
    },
    {
      "cell_type": "code",
      "metadata": {
        "id": "DV6hQpvx0rex",
        "colab_type": "code",
        "colab": {
          "base_uri": "https://localhost:8080/",
          "height": 102
        },
        "outputId": "9d082bcc-9ebf-4429-d164-b03611eb44ea"
      },
      "source": [
        "best_lrc.fit(features_train, labels_train)"
      ],
      "execution_count": null,
      "outputs": [
        {
          "output_type": "execute_result",
          "data": {
            "text/plain": [
              "LogisticRegression(C=2.0, class_weight='balanced', dual=False,\n",
              "                   fit_intercept=True, intercept_scaling=1, l1_ratio=None,\n",
              "                   max_iter=100, multi_class='multinomial', n_jobs=None,\n",
              "                   penalty='l2', random_state=None, solver='sag', tol=0.0001,\n",
              "                   verbose=0, warm_start=False)"
            ]
          },
          "metadata": {
            "tags": []
          },
          "execution_count": 55
        }
      ]
    },
    {
      "cell_type": "code",
      "metadata": {
        "id": "m67YLu7l0sum",
        "colab_type": "code",
        "colab": {}
      },
      "source": [
        "lrc_pred = best_lrc.predict(features_test)"
      ],
      "execution_count": null,
      "outputs": []
    },
    {
      "cell_type": "code",
      "metadata": {
        "id": "I2HomsEM0xno",
        "colab_type": "code",
        "colab": {
          "base_uri": "https://localhost:8080/",
          "height": 51
        },
        "outputId": "01dfd19b-f47f-4a6b-e3d3-14806b9ef98c"
      },
      "source": [
        "# Training accuracy\n",
        "print(\"The training accuracy is: \")\n",
        "print(accuracy_score(labels_train, best_lrc.predict(features_train)))"
      ],
      "execution_count": null,
      "outputs": [
        {
          "output_type": "stream",
          "text": [
            "The training accuracy is: \n",
            "0.8108448266820494\n"
          ],
          "name": "stdout"
        }
      ]
    },
    {
      "cell_type": "code",
      "metadata": {
        "id": "NW4Fde0T03HK",
        "colab_type": "code",
        "colab": {
          "base_uri": "https://localhost:8080/",
          "height": 51
        },
        "outputId": "55029184-f5c0-4d6c-896c-85bd627d836e"
      },
      "source": [
        "# Test accuracy\n",
        "print(\"The test accuracy is: \")\n",
        "print(accuracy_score(labels_test, lrc_pred))"
      ],
      "execution_count": null,
      "outputs": [
        {
          "output_type": "stream",
          "text": [
            "The test accuracy is: \n",
            "0.7980179329872581\n"
          ],
          "name": "stdout"
        }
      ]
    },
    {
      "cell_type": "code",
      "metadata": {
        "id": "F_eMlzXi03rS",
        "colab_type": "code",
        "colab": {
          "base_uri": "https://localhost:8080/",
          "height": 187
        },
        "outputId": "5dcdfee7-f5ad-41ab-e975-86f8db2182c4"
      },
      "source": [
        "# Classification report\n",
        "print(\"Classification report\")\n",
        "print(classification_report(labels_test,lrc_pred))"
      ],
      "execution_count": null,
      "outputs": [
        {
          "output_type": "stream",
          "text": [
            "Classification report\n",
            "              precision    recall  f1-score   support\n",
            "\n",
            "           0       0.74      0.91      0.82      3200\n",
            "           1       0.89      0.68      0.77      3157\n",
            "\n",
            "    accuracy                           0.80      6357\n",
            "   macro avg       0.82      0.80      0.79      6357\n",
            "weighted avg       0.81      0.80      0.80      6357\n",
            "\n"
          ],
          "name": "stdout"
        }
      ]
    },
    {
      "cell_type": "code",
      "metadata": {
        "id": "ZsKtRhFA06k5",
        "colab_type": "code",
        "colab": {
          "base_uri": "https://localhost:8080/",
          "height": 170
        },
        "outputId": "d5155441-c9b7-4279-d4df-bb7d7aadf62e"
      },
      "source": [
        "base_model = LogisticRegression(random_state = 8)\n",
        "base_model.fit(features_train, labels_train)\n",
        "accuracy_score(labels_test, base_model.predict(features_test))"
      ],
      "execution_count": null,
      "outputs": [
        {
          "output_type": "stream",
          "text": [
            "/usr/local/lib/python3.6/dist-packages/sklearn/linear_model/_logistic.py:940: ConvergenceWarning: lbfgs failed to converge (status=1):\n",
            "STOP: TOTAL NO. of ITERATIONS REACHED LIMIT.\n",
            "\n",
            "Increase the number of iterations (max_iter) or scale the data as shown in:\n",
            "    https://scikit-learn.org/stable/modules/preprocessing.html\n",
            "Please also refer to the documentation for alternative solver options:\n",
            "    https://scikit-learn.org/stable/modules/linear_model.html#logistic-regression\n",
            "  extra_warning_msg=_LOGISTIC_SOLVER_CONVERGENCE_MSG)\n"
          ],
          "name": "stderr"
        },
        {
          "output_type": "execute_result",
          "data": {
            "text/plain": [
              "0.7953437155891143"
            ]
          },
          "metadata": {
            "tags": []
          },
          "execution_count": 60
        }
      ]
    },
    {
      "cell_type": "code",
      "metadata": {
        "id": "HzT-vpK91Ev0",
        "colab_type": "code",
        "colab": {
          "base_uri": "https://localhost:8080/",
          "height": 34
        },
        "outputId": "0a4a1aac-bfe2-4e25-f9d5-ecb140794dac"
      },
      "source": [
        "best_lrc.fit(features_train, labels_train)\n",
        "accuracy_score(labels_test, best_lrc.predict(features_test))"
      ],
      "execution_count": null,
      "outputs": [
        {
          "output_type": "execute_result",
          "data": {
            "text/plain": [
              "0.7980179329872581"
            ]
          },
          "metadata": {
            "tags": []
          },
          "execution_count": 61
        }
      ]
    },
    {
      "cell_type": "code",
      "metadata": {
        "id": "uGc1A5RS1G7x",
        "colab_type": "code",
        "colab": {}
      },
      "source": [
        "\n",
        "d = {\n",
        "     'Model': 'Logistic Regression',\n",
        "     'Training Set Accuracy': accuracy_score(labels_train, best_lrc.predict(features_train)),\n",
        "     'Test Set Accuracy': accuracy_score(labels_test, lrc_pred)\n",
        "}\n",
        "\n",
        "df_models_lrc = pd.DataFrame(d, index=[0])"
      ],
      "execution_count": null,
      "outputs": []
    },
    {
      "cell_type": "code",
      "metadata": {
        "id": "IXdjtSTN1Ksq",
        "colab_type": "code",
        "colab": {
          "base_uri": "https://localhost:8080/",
          "height": 80
        },
        "outputId": "3bc92c3f-6309-4f8d-d498-9d269ad2cca7"
      },
      "source": [
        "df_models_lrc"
      ],
      "execution_count": null,
      "outputs": [
        {
          "output_type": "execute_result",
          "data": {
            "text/html": [
              "<div>\n",
              "<style scoped>\n",
              "    .dataframe tbody tr th:only-of-type {\n",
              "        vertical-align: middle;\n",
              "    }\n",
              "\n",
              "    .dataframe tbody tr th {\n",
              "        vertical-align: top;\n",
              "    }\n",
              "\n",
              "    .dataframe thead th {\n",
              "        text-align: right;\n",
              "    }\n",
              "</style>\n",
              "<table border=\"1\" class=\"dataframe\">\n",
              "  <thead>\n",
              "    <tr style=\"text-align: right;\">\n",
              "      <th></th>\n",
              "      <th>Model</th>\n",
              "      <th>Training Set Accuracy</th>\n",
              "      <th>Test Set Accuracy</th>\n",
              "    </tr>\n",
              "  </thead>\n",
              "  <tbody>\n",
              "    <tr>\n",
              "      <th>0</th>\n",
              "      <td>Logistic Regression</td>\n",
              "      <td>0.810845</td>\n",
              "      <td>0.798018</td>\n",
              "    </tr>\n",
              "  </tbody>\n",
              "</table>\n",
              "</div>"
            ],
            "text/plain": [
              "                 Model  Training Set Accuracy  Test Set Accuracy\n",
              "0  Logistic Regression               0.810845           0.798018"
            ]
          },
          "metadata": {
            "tags": []
          },
          "execution_count": 63
        }
      ]
    },
    {
      "cell_type": "code",
      "metadata": {
        "id": "yX7FjJs21JTB",
        "colab_type": "code",
        "colab": {}
      },
      "source": [
        "\n",
        "with open('/content/gdrive/My Drive/colab_work/best_lrc.pickle', 'wb') as output:\n",
        "    pickle.dump(best_lrc, output)\n",
        "    \n",
        "with open('/content/gdrive/My Drive/colab_work/df_models_lrc.pickle', 'wb') as output:\n",
        "    pickle.dump(df_models_lrc, output)"
      ],
      "execution_count": null,
      "outputs": []
    },
    {
      "cell_type": "code",
      "metadata": {
        "id": "TamQQppn1bfL",
        "colab_type": "code",
        "colab": {}
      },
      "source": [
        ""
      ],
      "execution_count": null,
      "outputs": []
    }
  ]
}